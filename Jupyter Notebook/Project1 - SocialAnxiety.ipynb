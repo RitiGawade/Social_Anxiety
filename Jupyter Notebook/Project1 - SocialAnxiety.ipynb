{
 "cells": [
  {
   "cell_type": "markdown",
   "id": "c64b6323",
   "metadata": {},
   "source": [
    "**IMPORTING THE LIBRARIES**"
   ]
  },
  {
   "cell_type": "code",
   "execution_count": 15,
   "id": "48c264cb",
   "metadata": {},
   "outputs": [],
   "source": [
    "import numpy as np\n",
    "import pandas as pd\n",
    "import seaborn as sns\n",
    "import matplotlib.pyplot as plt\n",
    "plt.style.use('ggplot')\n",
    "from scipy.stats import norm"
   ]
  },
  {
   "cell_type": "markdown",
   "id": "baa9f2cd",
   "metadata": {},
   "source": [
    "**READING THE DATASET**"
   ]
  },
  {
   "cell_type": "code",
   "execution_count": 16,
   "id": "144fdb9f",
   "metadata": {},
   "outputs": [],
   "source": [
    "anxiety_df = pd.read_csv(\"Social_Anxiety_Survey_Master _1.csv\")"
   ]
  },
  {
   "cell_type": "code",
   "execution_count": 17,
   "id": "715c399b",
   "metadata": {},
   "outputs": [
    {
     "data": {
      "text/html": [
       "<div>\n",
       "<style scoped>\n",
       "    .dataframe tbody tr th:only-of-type {\n",
       "        vertical-align: middle;\n",
       "    }\n",
       "\n",
       "    .dataframe tbody tr th {\n",
       "        vertical-align: top;\n",
       "    }\n",
       "\n",
       "    .dataframe thead th {\n",
       "        text-align: right;\n",
       "    }\n",
       "</style>\n",
       "<table border=\"1\" class=\"dataframe\">\n",
       "  <thead>\n",
       "    <tr style=\"text-align: right;\">\n",
       "      <th></th>\n",
       "      <th>Timestamp</th>\n",
       "      <th>Gender</th>\n",
       "      <th>Student</th>\n",
       "      <th>Age</th>\n",
       "      <th>Marital</th>\n",
       "      <th>Q1</th>\n",
       "      <th>Q2</th>\n",
       "      <th>Q3</th>\n",
       "      <th>Q4</th>\n",
       "      <th>Q5</th>\n",
       "      <th>Q6</th>\n",
       "      <th>Q7</th>\n",
       "    </tr>\n",
       "  </thead>\n",
       "  <tbody>\n",
       "    <tr>\n",
       "      <th>0</th>\n",
       "      <td>12/12/2019 2:06</td>\n",
       "      <td>Female</td>\n",
       "      <td>Yes</td>\n",
       "      <td>21 - 30</td>\n",
       "      <td>Single</td>\n",
       "      <td>Less than 4 hours per day</td>\n",
       "      <td>3</td>\n",
       "      <td>3</td>\n",
       "      <td>3</td>\n",
       "      <td>3</td>\n",
       "      <td>4</td>\n",
       "      <td>1</td>\n",
       "    </tr>\n",
       "    <tr>\n",
       "      <th>1</th>\n",
       "      <td>12/12/2019 21:41</td>\n",
       "      <td>Male</td>\n",
       "      <td>Yes</td>\n",
       "      <td>21 - 30</td>\n",
       "      <td>Single</td>\n",
       "      <td>Less than 2 hours per day</td>\n",
       "      <td>3</td>\n",
       "      <td>3</td>\n",
       "      <td>2</td>\n",
       "      <td>2</td>\n",
       "      <td>4</td>\n",
       "      <td>4</td>\n",
       "    </tr>\n",
       "    <tr>\n",
       "      <th>2</th>\n",
       "      <td>12/12/2019 21:42</td>\n",
       "      <td>Female</td>\n",
       "      <td>Yes</td>\n",
       "      <td>21 - 30</td>\n",
       "      <td>Single</td>\n",
       "      <td>4 hours and above per day</td>\n",
       "      <td>1</td>\n",
       "      <td>5</td>\n",
       "      <td>2</td>\n",
       "      <td>4</td>\n",
       "      <td>5</td>\n",
       "      <td>4</td>\n",
       "    </tr>\n",
       "    <tr>\n",
       "      <th>3</th>\n",
       "      <td>12/12/2019 21:43</td>\n",
       "      <td>Female</td>\n",
       "      <td>Yes</td>\n",
       "      <td>21 - 30</td>\n",
       "      <td>Single</td>\n",
       "      <td>Less than 1 hours per day</td>\n",
       "      <td>4</td>\n",
       "      <td>4</td>\n",
       "      <td>3</td>\n",
       "      <td>3</td>\n",
       "      <td>3</td>\n",
       "      <td>1</td>\n",
       "    </tr>\n",
       "    <tr>\n",
       "      <th>4</th>\n",
       "      <td>12/12/2019 21:43</td>\n",
       "      <td>Male</td>\n",
       "      <td>Yes</td>\n",
       "      <td>21 - 30</td>\n",
       "      <td>Single</td>\n",
       "      <td>Less than 1 hours per day</td>\n",
       "      <td>3</td>\n",
       "      <td>5</td>\n",
       "      <td>2</td>\n",
       "      <td>3</td>\n",
       "      <td>4</td>\n",
       "      <td>4</td>\n",
       "    </tr>\n",
       "    <tr>\n",
       "      <th>...</th>\n",
       "      <td>...</td>\n",
       "      <td>...</td>\n",
       "      <td>...</td>\n",
       "      <td>...</td>\n",
       "      <td>...</td>\n",
       "      <td>...</td>\n",
       "      <td>...</td>\n",
       "      <td>...</td>\n",
       "      <td>...</td>\n",
       "      <td>...</td>\n",
       "      <td>...</td>\n",
       "      <td>...</td>\n",
       "    </tr>\n",
       "    <tr>\n",
       "      <th>61</th>\n",
       "      <td>12/31/2019 16:11:56</td>\n",
       "      <td>Male</td>\n",
       "      <td>Yes</td>\n",
       "      <td>20 or below</td>\n",
       "      <td>Single</td>\n",
       "      <td>Less than 3 hours per day</td>\n",
       "      <td>4</td>\n",
       "      <td>5</td>\n",
       "      <td>4</td>\n",
       "      <td>5</td>\n",
       "      <td>4</td>\n",
       "      <td>2</td>\n",
       "    </tr>\n",
       "    <tr>\n",
       "      <th>62</th>\n",
       "      <td>12/31/2019 16:12:42</td>\n",
       "      <td>Male</td>\n",
       "      <td>Yes</td>\n",
       "      <td>20 or below</td>\n",
       "      <td>Single</td>\n",
       "      <td>Less than 4 hours per day</td>\n",
       "      <td>3</td>\n",
       "      <td>2</td>\n",
       "      <td>5</td>\n",
       "      <td>3</td>\n",
       "      <td>1</td>\n",
       "      <td>4</td>\n",
       "    </tr>\n",
       "    <tr>\n",
       "      <th>63</th>\n",
       "      <td>12/31/2019 21:23:06</td>\n",
       "      <td>Female</td>\n",
       "      <td>Yes</td>\n",
       "      <td>21 - 30</td>\n",
       "      <td>Single</td>\n",
       "      <td>4 hours and above per day</td>\n",
       "      <td>1</td>\n",
       "      <td>1</td>\n",
       "      <td>1</td>\n",
       "      <td>4</td>\n",
       "      <td>5</td>\n",
       "      <td>1</td>\n",
       "    </tr>\n",
       "    <tr>\n",
       "      <th>64</th>\n",
       "      <td>1/1/2020 15:15</td>\n",
       "      <td>Male</td>\n",
       "      <td>Yes</td>\n",
       "      <td>21 - 30</td>\n",
       "      <td>Single</td>\n",
       "      <td>Less than 3 hours per day</td>\n",
       "      <td>2</td>\n",
       "      <td>4</td>\n",
       "      <td>4</td>\n",
       "      <td>4</td>\n",
       "      <td>4</td>\n",
       "      <td>4</td>\n",
       "    </tr>\n",
       "    <tr>\n",
       "      <th>65</th>\n",
       "      <td>1/1/2020 16:15</td>\n",
       "      <td>Female</td>\n",
       "      <td>Yes</td>\n",
       "      <td>21 - 30</td>\n",
       "      <td>Married</td>\n",
       "      <td>Less than 1 hours per day</td>\n",
       "      <td>2</td>\n",
       "      <td>2</td>\n",
       "      <td>2</td>\n",
       "      <td>2</td>\n",
       "      <td>4</td>\n",
       "      <td>5</td>\n",
       "    </tr>\n",
       "  </tbody>\n",
       "</table>\n",
       "<p>66 rows × 12 columns</p>\n",
       "</div>"
      ],
      "text/plain": [
       "              Timestamp  Gender Student          Age  Marital  \\\n",
       "0       12/12/2019 2:06  Female     Yes      21 - 30   Single   \n",
       "1      12/12/2019 21:41    Male     Yes      21 - 30   Single   \n",
       "2      12/12/2019 21:42  Female     Yes      21 - 30   Single   \n",
       "3      12/12/2019 21:43  Female     Yes      21 - 30   Single   \n",
       "4      12/12/2019 21:43    Male     Yes      21 - 30   Single   \n",
       "..                  ...     ...     ...          ...      ...   \n",
       "61  12/31/2019 16:11:56    Male     Yes  20 or below   Single   \n",
       "62  12/31/2019 16:12:42    Male     Yes  20 or below   Single   \n",
       "63  12/31/2019 21:23:06  Female     Yes      21 - 30   Single   \n",
       "64       1/1/2020 15:15    Male     Yes      21 - 30   Single   \n",
       "65       1/1/2020 16:15  Female     Yes      21 - 30  Married   \n",
       "\n",
       "                           Q1  Q2  Q3  Q4  Q5  Q6  Q7  \n",
       "0   Less than 4 hours per day   3   3   3   3   4   1  \n",
       "1   Less than 2 hours per day   3   3   2   2   4   4  \n",
       "2   4 hours and above per day   1   5   2   4   5   4  \n",
       "3   Less than 1 hours per day   4   4   3   3   3   1  \n",
       "4   Less than 1 hours per day   3   5   2   3   4   4  \n",
       "..                        ...  ..  ..  ..  ..  ..  ..  \n",
       "61  Less than 3 hours per day   4   5   4   5   4   2  \n",
       "62  Less than 4 hours per day   3   2   5   3   1   4  \n",
       "63  4 hours and above per day   1   1   1   4   5   1  \n",
       "64  Less than 3 hours per day   2   4   4   4   4   4  \n",
       "65  Less than 1 hours per day   2   2   2   2   4   5  \n",
       "\n",
       "[66 rows x 12 columns]"
      ]
     },
     "execution_count": 17,
     "metadata": {},
     "output_type": "execute_result"
    }
   ],
   "source": [
    "anxiety_df"
   ]
  },
  {
   "cell_type": "code",
   "execution_count": 18,
   "id": "aeaad337",
   "metadata": {
    "scrolled": true
   },
   "outputs": [
    {
     "name": "stdout",
     "output_type": "stream",
     "text": [
      "<class 'pandas.core.frame.DataFrame'>\n",
      "RangeIndex: 66 entries, 0 to 65\n",
      "Data columns (total 12 columns):\n",
      " #   Column     Non-Null Count  Dtype \n",
      "---  ------     --------------  ----- \n",
      " 0   Timestamp  66 non-null     object\n",
      " 1   Gender     66 non-null     object\n",
      " 2   Student    66 non-null     object\n",
      " 3   Age        66 non-null     object\n",
      " 4   Marital    66 non-null     object\n",
      " 5   Q1         66 non-null     object\n",
      " 6   Q2         66 non-null     int64 \n",
      " 7   Q3         66 non-null     int64 \n",
      " 8   Q4         66 non-null     int64 \n",
      " 9   Q5         66 non-null     int64 \n",
      " 10  Q6         66 non-null     int64 \n",
      " 11  Q7         66 non-null     int64 \n",
      "dtypes: int64(6), object(6)\n",
      "memory usage: 6.3+ KB\n"
     ]
    }
   ],
   "source": [
    "anxiety_df.info()"
   ]
  },
  {
   "cell_type": "markdown",
   "id": "5e5702f6",
   "metadata": {},
   "source": [
    "**FINDING THE MISSING DATA**"
   ]
  },
  {
   "cell_type": "code",
   "execution_count": 19,
   "id": "40e8eeb9",
   "metadata": {},
   "outputs": [
    {
     "data": {
      "text/plain": [
       "Timestamp    0\n",
       "Gender       0\n",
       "Student      0\n",
       "Age          0\n",
       "Marital      0\n",
       "Q1           0\n",
       "Q2           0\n",
       "Q3           0\n",
       "Q4           0\n",
       "Q5           0\n",
       "Q6           0\n",
       "Q7           0\n",
       "dtype: int64"
      ]
     },
     "execution_count": 19,
     "metadata": {},
     "output_type": "execute_result"
    }
   ],
   "source": [
    "anxiety_df.isnull().sum()"
   ]
  },
  {
   "cell_type": "code",
   "execution_count": 20,
   "id": "4fbe32d1",
   "metadata": {},
   "outputs": [],
   "source": [
    "#REMOVING WHITESPACE FROM STUDENT COLUMN\n",
    "anxiety_df['Student'] = anxiety_df['Student'].str.strip()"
   ]
  },
  {
   "cell_type": "code",
   "execution_count": 21,
   "id": "e1494a22",
   "metadata": {},
   "outputs": [
    {
     "data": {
      "text/plain": [
       "(42, 12)"
      ]
     },
     "execution_count": 21,
     "metadata": {},
     "output_type": "execute_result"
    }
   ],
   "source": [
    "#creating a subset of Student column with value as YES\n",
    "Student_Yes_df = anxiety_df[anxiety_df['Student'] == \"Yes\"]\n",
    "Student_Yes_df.shape"
   ]
  },
  {
   "cell_type": "code",
   "execution_count": 22,
   "id": "8b929304",
   "metadata": {},
   "outputs": [
    {
     "data": {
      "text/html": [
       "<div>\n",
       "<style scoped>\n",
       "    .dataframe tbody tr th:only-of-type {\n",
       "        vertical-align: middle;\n",
       "    }\n",
       "\n",
       "    .dataframe tbody tr th {\n",
       "        vertical-align: top;\n",
       "    }\n",
       "\n",
       "    .dataframe thead th {\n",
       "        text-align: right;\n",
       "    }\n",
       "</style>\n",
       "<table border=\"1\" class=\"dataframe\">\n",
       "  <thead>\n",
       "    <tr style=\"text-align: right;\">\n",
       "      <th></th>\n",
       "      <th>Timestamp</th>\n",
       "      <th>Gender</th>\n",
       "      <th>Student</th>\n",
       "      <th>Age</th>\n",
       "      <th>Marital</th>\n",
       "      <th>Q1</th>\n",
       "      <th>Q2</th>\n",
       "      <th>Q3</th>\n",
       "      <th>Q4</th>\n",
       "      <th>Q5</th>\n",
       "      <th>Q6</th>\n",
       "      <th>Q7</th>\n",
       "      <th>Date</th>\n",
       "      <th>Time</th>\n",
       "    </tr>\n",
       "  </thead>\n",
       "  <tbody>\n",
       "    <tr>\n",
       "      <th>0</th>\n",
       "      <td>12/12/2019 2:06</td>\n",
       "      <td>Female</td>\n",
       "      <td>Yes</td>\n",
       "      <td>21 - 30</td>\n",
       "      <td>Single</td>\n",
       "      <td>Less than 4 hours per day</td>\n",
       "      <td>3</td>\n",
       "      <td>3</td>\n",
       "      <td>3</td>\n",
       "      <td>3</td>\n",
       "      <td>4</td>\n",
       "      <td>1</td>\n",
       "      <td>2019-12-12</td>\n",
       "      <td>02:06:00</td>\n",
       "    </tr>\n",
       "    <tr>\n",
       "      <th>1</th>\n",
       "      <td>12/12/2019 21:41</td>\n",
       "      <td>Male</td>\n",
       "      <td>Yes</td>\n",
       "      <td>21 - 30</td>\n",
       "      <td>Single</td>\n",
       "      <td>Less than 2 hours per day</td>\n",
       "      <td>3</td>\n",
       "      <td>3</td>\n",
       "      <td>2</td>\n",
       "      <td>2</td>\n",
       "      <td>4</td>\n",
       "      <td>4</td>\n",
       "      <td>2019-12-12</td>\n",
       "      <td>21:41:00</td>\n",
       "    </tr>\n",
       "    <tr>\n",
       "      <th>2</th>\n",
       "      <td>12/12/2019 21:42</td>\n",
       "      <td>Female</td>\n",
       "      <td>Yes</td>\n",
       "      <td>21 - 30</td>\n",
       "      <td>Single</td>\n",
       "      <td>4 hours and above per day</td>\n",
       "      <td>1</td>\n",
       "      <td>5</td>\n",
       "      <td>2</td>\n",
       "      <td>4</td>\n",
       "      <td>5</td>\n",
       "      <td>4</td>\n",
       "      <td>2019-12-12</td>\n",
       "      <td>21:42:00</td>\n",
       "    </tr>\n",
       "    <tr>\n",
       "      <th>3</th>\n",
       "      <td>12/12/2019 21:43</td>\n",
       "      <td>Female</td>\n",
       "      <td>Yes</td>\n",
       "      <td>21 - 30</td>\n",
       "      <td>Single</td>\n",
       "      <td>Less than 1 hours per day</td>\n",
       "      <td>4</td>\n",
       "      <td>4</td>\n",
       "      <td>3</td>\n",
       "      <td>3</td>\n",
       "      <td>3</td>\n",
       "      <td>1</td>\n",
       "      <td>2019-12-12</td>\n",
       "      <td>21:43:00</td>\n",
       "    </tr>\n",
       "    <tr>\n",
       "      <th>4</th>\n",
       "      <td>12/12/2019 21:43</td>\n",
       "      <td>Male</td>\n",
       "      <td>Yes</td>\n",
       "      <td>21 - 30</td>\n",
       "      <td>Single</td>\n",
       "      <td>Less than 1 hours per day</td>\n",
       "      <td>3</td>\n",
       "      <td>5</td>\n",
       "      <td>2</td>\n",
       "      <td>3</td>\n",
       "      <td>4</td>\n",
       "      <td>4</td>\n",
       "      <td>2019-12-12</td>\n",
       "      <td>21:43:00</td>\n",
       "    </tr>\n",
       "  </tbody>\n",
       "</table>\n",
       "</div>"
      ],
      "text/plain": [
       "          Timestamp  Gender Student      Age Marital  \\\n",
       "0   12/12/2019 2:06  Female     Yes  21 - 30  Single   \n",
       "1  12/12/2019 21:41    Male     Yes  21 - 30  Single   \n",
       "2  12/12/2019 21:42  Female     Yes  21 - 30  Single   \n",
       "3  12/12/2019 21:43  Female     Yes  21 - 30  Single   \n",
       "4  12/12/2019 21:43    Male     Yes  21 - 30  Single   \n",
       "\n",
       "                          Q1  Q2  Q3  Q4  Q5  Q6  Q7        Date      Time  \n",
       "0  Less than 4 hours per day   3   3   3   3   4   1  2019-12-12  02:06:00  \n",
       "1  Less than 2 hours per day   3   3   2   2   4   4  2019-12-12  21:41:00  \n",
       "2  4 hours and above per day   1   5   2   4   5   4  2019-12-12  21:42:00  \n",
       "3  Less than 1 hours per day   4   4   3   3   3   1  2019-12-12  21:43:00  \n",
       "4  Less than 1 hours per day   3   5   2   3   4   4  2019-12-12  21:43:00  "
      ]
     },
     "execution_count": 22,
     "metadata": {},
     "output_type": "execute_result"
    }
   ],
   "source": [
    "#SEPARATING TIME AND DATE FROM TIMESTAMP COLUMN\n",
    "anxiety_df['Date'] = pd.to_datetime(anxiety_df['Timestamp']).dt.date\n",
    "anxiety_df['Time'] = pd.to_datetime(anxiety_df['Timestamp']).dt.time\n",
    "anxiety_df.head()"
   ]
  },
  {
   "cell_type": "code",
   "execution_count": 23,
   "id": "b49f70f5",
   "metadata": {},
   "outputs": [
    {
     "data": {
      "text/html": [
       "<div>\n",
       "<style scoped>\n",
       "    .dataframe tbody tr th:only-of-type {\n",
       "        vertical-align: middle;\n",
       "    }\n",
       "\n",
       "    .dataframe tbody tr th {\n",
       "        vertical-align: top;\n",
       "    }\n",
       "\n",
       "    .dataframe thead th {\n",
       "        text-align: right;\n",
       "    }\n",
       "</style>\n",
       "<table border=\"1\" class=\"dataframe\">\n",
       "  <thead>\n",
       "    <tr style=\"text-align: right;\">\n",
       "      <th></th>\n",
       "      <th>Gender</th>\n",
       "      <th>Student</th>\n",
       "      <th>Age</th>\n",
       "      <th>Marital</th>\n",
       "      <th>Q1</th>\n",
       "      <th>Q2</th>\n",
       "      <th>Q3</th>\n",
       "      <th>Q4</th>\n",
       "      <th>Q5</th>\n",
       "      <th>Q6</th>\n",
       "      <th>Q7</th>\n",
       "      <th>Date</th>\n",
       "      <th>Time</th>\n",
       "    </tr>\n",
       "  </thead>\n",
       "  <tbody>\n",
       "    <tr>\n",
       "      <th>0</th>\n",
       "      <td>Female</td>\n",
       "      <td>Yes</td>\n",
       "      <td>21 - 30</td>\n",
       "      <td>Single</td>\n",
       "      <td>Less than 4 hours per day</td>\n",
       "      <td>3</td>\n",
       "      <td>3</td>\n",
       "      <td>3</td>\n",
       "      <td>3</td>\n",
       "      <td>4</td>\n",
       "      <td>1</td>\n",
       "      <td>2019-12-12</td>\n",
       "      <td>02:06:00</td>\n",
       "    </tr>\n",
       "    <tr>\n",
       "      <th>1</th>\n",
       "      <td>Male</td>\n",
       "      <td>Yes</td>\n",
       "      <td>21 - 30</td>\n",
       "      <td>Single</td>\n",
       "      <td>Less than 2 hours per day</td>\n",
       "      <td>3</td>\n",
       "      <td>3</td>\n",
       "      <td>2</td>\n",
       "      <td>2</td>\n",
       "      <td>4</td>\n",
       "      <td>4</td>\n",
       "      <td>2019-12-12</td>\n",
       "      <td>21:41:00</td>\n",
       "    </tr>\n",
       "    <tr>\n",
       "      <th>2</th>\n",
       "      <td>Female</td>\n",
       "      <td>Yes</td>\n",
       "      <td>21 - 30</td>\n",
       "      <td>Single</td>\n",
       "      <td>4 hours and above per day</td>\n",
       "      <td>1</td>\n",
       "      <td>5</td>\n",
       "      <td>2</td>\n",
       "      <td>4</td>\n",
       "      <td>5</td>\n",
       "      <td>4</td>\n",
       "      <td>2019-12-12</td>\n",
       "      <td>21:42:00</td>\n",
       "    </tr>\n",
       "    <tr>\n",
       "      <th>3</th>\n",
       "      <td>Female</td>\n",
       "      <td>Yes</td>\n",
       "      <td>21 - 30</td>\n",
       "      <td>Single</td>\n",
       "      <td>Less than 1 hours per day</td>\n",
       "      <td>4</td>\n",
       "      <td>4</td>\n",
       "      <td>3</td>\n",
       "      <td>3</td>\n",
       "      <td>3</td>\n",
       "      <td>1</td>\n",
       "      <td>2019-12-12</td>\n",
       "      <td>21:43:00</td>\n",
       "    </tr>\n",
       "    <tr>\n",
       "      <th>4</th>\n",
       "      <td>Male</td>\n",
       "      <td>Yes</td>\n",
       "      <td>21 - 30</td>\n",
       "      <td>Single</td>\n",
       "      <td>Less than 1 hours per day</td>\n",
       "      <td>3</td>\n",
       "      <td>5</td>\n",
       "      <td>2</td>\n",
       "      <td>3</td>\n",
       "      <td>4</td>\n",
       "      <td>4</td>\n",
       "      <td>2019-12-12</td>\n",
       "      <td>21:43:00</td>\n",
       "    </tr>\n",
       "    <tr>\n",
       "      <th>...</th>\n",
       "      <td>...</td>\n",
       "      <td>...</td>\n",
       "      <td>...</td>\n",
       "      <td>...</td>\n",
       "      <td>...</td>\n",
       "      <td>...</td>\n",
       "      <td>...</td>\n",
       "      <td>...</td>\n",
       "      <td>...</td>\n",
       "      <td>...</td>\n",
       "      <td>...</td>\n",
       "      <td>...</td>\n",
       "      <td>...</td>\n",
       "    </tr>\n",
       "    <tr>\n",
       "      <th>61</th>\n",
       "      <td>Male</td>\n",
       "      <td>Yes</td>\n",
       "      <td>20 or below</td>\n",
       "      <td>Single</td>\n",
       "      <td>Less than 3 hours per day</td>\n",
       "      <td>4</td>\n",
       "      <td>5</td>\n",
       "      <td>4</td>\n",
       "      <td>5</td>\n",
       "      <td>4</td>\n",
       "      <td>2</td>\n",
       "      <td>2019-12-31</td>\n",
       "      <td>16:11:56</td>\n",
       "    </tr>\n",
       "    <tr>\n",
       "      <th>62</th>\n",
       "      <td>Male</td>\n",
       "      <td>Yes</td>\n",
       "      <td>20 or below</td>\n",
       "      <td>Single</td>\n",
       "      <td>Less than 4 hours per day</td>\n",
       "      <td>3</td>\n",
       "      <td>2</td>\n",
       "      <td>5</td>\n",
       "      <td>3</td>\n",
       "      <td>1</td>\n",
       "      <td>4</td>\n",
       "      <td>2019-12-31</td>\n",
       "      <td>16:12:42</td>\n",
       "    </tr>\n",
       "    <tr>\n",
       "      <th>63</th>\n",
       "      <td>Female</td>\n",
       "      <td>Yes</td>\n",
       "      <td>21 - 30</td>\n",
       "      <td>Single</td>\n",
       "      <td>4 hours and above per day</td>\n",
       "      <td>1</td>\n",
       "      <td>1</td>\n",
       "      <td>1</td>\n",
       "      <td>4</td>\n",
       "      <td>5</td>\n",
       "      <td>1</td>\n",
       "      <td>2019-12-31</td>\n",
       "      <td>21:23:06</td>\n",
       "    </tr>\n",
       "    <tr>\n",
       "      <th>64</th>\n",
       "      <td>Male</td>\n",
       "      <td>Yes</td>\n",
       "      <td>21 - 30</td>\n",
       "      <td>Single</td>\n",
       "      <td>Less than 3 hours per day</td>\n",
       "      <td>2</td>\n",
       "      <td>4</td>\n",
       "      <td>4</td>\n",
       "      <td>4</td>\n",
       "      <td>4</td>\n",
       "      <td>4</td>\n",
       "      <td>2020-01-01</td>\n",
       "      <td>15:15:00</td>\n",
       "    </tr>\n",
       "    <tr>\n",
       "      <th>65</th>\n",
       "      <td>Female</td>\n",
       "      <td>Yes</td>\n",
       "      <td>21 - 30</td>\n",
       "      <td>Married</td>\n",
       "      <td>Less than 1 hours per day</td>\n",
       "      <td>2</td>\n",
       "      <td>2</td>\n",
       "      <td>2</td>\n",
       "      <td>2</td>\n",
       "      <td>4</td>\n",
       "      <td>5</td>\n",
       "      <td>2020-01-01</td>\n",
       "      <td>16:15:00</td>\n",
       "    </tr>\n",
       "  </tbody>\n",
       "</table>\n",
       "<p>66 rows × 13 columns</p>\n",
       "</div>"
      ],
      "text/plain": [
       "    Gender Student          Age  Marital                         Q1  Q2  Q3  \\\n",
       "0   Female     Yes      21 - 30   Single  Less than 4 hours per day   3   3   \n",
       "1     Male     Yes      21 - 30   Single  Less than 2 hours per day   3   3   \n",
       "2   Female     Yes      21 - 30   Single  4 hours and above per day   1   5   \n",
       "3   Female     Yes      21 - 30   Single  Less than 1 hours per day   4   4   \n",
       "4     Male     Yes      21 - 30   Single  Less than 1 hours per day   3   5   \n",
       "..     ...     ...          ...      ...                        ...  ..  ..   \n",
       "61    Male     Yes  20 or below   Single  Less than 3 hours per day   4   5   \n",
       "62    Male     Yes  20 or below   Single  Less than 4 hours per day   3   2   \n",
       "63  Female     Yes      21 - 30   Single  4 hours and above per day   1   1   \n",
       "64    Male     Yes      21 - 30   Single  Less than 3 hours per day   2   4   \n",
       "65  Female     Yes      21 - 30  Married  Less than 1 hours per day   2   2   \n",
       "\n",
       "    Q4  Q5  Q6  Q7        Date      Time  \n",
       "0    3   3   4   1  2019-12-12  02:06:00  \n",
       "1    2   2   4   4  2019-12-12  21:41:00  \n",
       "2    2   4   5   4  2019-12-12  21:42:00  \n",
       "3    3   3   3   1  2019-12-12  21:43:00  \n",
       "4    2   3   4   4  2019-12-12  21:43:00  \n",
       "..  ..  ..  ..  ..         ...       ...  \n",
       "61   4   5   4   2  2019-12-31  16:11:56  \n",
       "62   5   3   1   4  2019-12-31  16:12:42  \n",
       "63   1   4   5   1  2019-12-31  21:23:06  \n",
       "64   4   4   4   4  2020-01-01  15:15:00  \n",
       "65   2   2   4   5  2020-01-01  16:15:00  \n",
       "\n",
       "[66 rows x 13 columns]"
      ]
     },
     "execution_count": 23,
     "metadata": {},
     "output_type": "execute_result"
    }
   ],
   "source": [
    "# DROPPING TIMESTAMP COLUMN FROM THE DATASET\n",
    "anxiety_df = anxiety_df.drop(columns=['Timestamp'])\n",
    "anxiety_df"
   ]
  },
  {
   "cell_type": "code",
   "execution_count": 24,
   "id": "87bea188",
   "metadata": {},
   "outputs": [],
   "source": [
    "# RENAMING THE SPECIFIC COLUMNS\n",
    "anxiety_df.rename(columns = {'Q1':'Hours spent on social media','Q2':'Q1','Q3':'Q2','Q4':'Q3','Q5':'Q4','Q6':'Q5','Q7':'Q6'}, inplace = True)"
   ]
  },
  {
   "cell_type": "code",
   "execution_count": 25,
   "id": "dbc00544",
   "metadata": {},
   "outputs": [
    {
     "data": {
      "text/plain": [
       "(66, 13)"
      ]
     },
     "execution_count": 25,
     "metadata": {},
     "output_type": "execute_result"
    }
   ],
   "source": [
    "#CLEANED DATASET\n",
    "anxiety_df.shape"
   ]
  },
  {
   "cell_type": "markdown",
   "id": "42f0e99f",
   "metadata": {},
   "source": [
    "# Plotting Graphs"
   ]
  },
  {
   "cell_type": "markdown",
   "id": "d87e9c93",
   "metadata": {},
   "source": [
    "# Graph 1 - Histogram for Q2 TO Q6 columns"
   ]
  },
  {
   "cell_type": "code",
   "execution_count": 26,
   "id": "a1d75437",
   "metadata": {},
   "outputs": [
    {
     "data": {
      "text/plain": [
       "<Figure size 100000x100000 with 0 Axes>"
      ]
     },
     "metadata": {},
     "output_type": "display_data"
    },
    {
     "data": {
      "image/png": "[encoded data removed]",
      "text/plain": [
       "<Figure size 432x288 with 6 Axes>"
      ]
     },
     "metadata": {},
     "output_type": "display_data"
    }
   ],
   "source": [
    "plt.figure(figsize=(500,500),dpi=200)\n",
    "anxiety_df.hist(column=[\"Q1\", \"Q2\",\"Q3\",\"Q4\",\"Q5\",\"Q6\"],bins = 10)\n",
    "plt.show()"
   ]
  },
  {
   "cell_type": "code",
   "execution_count": 27,
   "id": "9f83daa7",
   "metadata": {},
   "outputs": [],
   "source": [
    "# computing total for Q2-Q6 columns"
   ]
  },
  {
   "cell_type": "code",
   "execution_count": 28,
   "id": "413506a8",
   "metadata": {},
   "outputs": [],
   "source": [
    "anxiety_df['Total'] = anxiety_df['Q1'] + anxiety_df['Q2'] + anxiety_df['Q3'] + anxiety_df['Q4'] + anxiety_df['Q5'] + anxiety_df['Q6']"
   ]
  },
  {
   "cell_type": "code",
   "execution_count": 29,
   "id": "7d162799",
   "metadata": {},
   "outputs": [
    {
     "data": {
      "text/html": [
       "<div>\n",
       "<style scoped>\n",
       "    .dataframe tbody tr th:only-of-type {\n",
       "        vertical-align: middle;\n",
       "    }\n",
       "\n",
       "    .dataframe tbody tr th {\n",
       "        vertical-align: top;\n",
       "    }\n",
       "\n",
       "    .dataframe thead th {\n",
       "        text-align: right;\n",
       "    }\n",
       "</style>\n",
       "<table border=\"1\" class=\"dataframe\">\n",
       "  <thead>\n",
       "    <tr style=\"text-align: right;\">\n",
       "      <th></th>\n",
       "      <th>Gender</th>\n",
       "      <th>Student</th>\n",
       "      <th>Age</th>\n",
       "      <th>Marital</th>\n",
       "      <th>Hours spent on social media</th>\n",
       "      <th>Q1</th>\n",
       "      <th>Q2</th>\n",
       "      <th>Q3</th>\n",
       "      <th>Q4</th>\n",
       "      <th>Q5</th>\n",
       "      <th>Q6</th>\n",
       "      <th>Date</th>\n",
       "      <th>Time</th>\n",
       "      <th>Total</th>\n",
       "    </tr>\n",
       "  </thead>\n",
       "  <tbody>\n",
       "    <tr>\n",
       "      <th>0</th>\n",
       "      <td>Female</td>\n",
       "      <td>Yes</td>\n",
       "      <td>21 - 30</td>\n",
       "      <td>Single</td>\n",
       "      <td>Less than 4 hours per day</td>\n",
       "      <td>3</td>\n",
       "      <td>3</td>\n",
       "      <td>3</td>\n",
       "      <td>3</td>\n",
       "      <td>4</td>\n",
       "      <td>1</td>\n",
       "      <td>2019-12-12</td>\n",
       "      <td>02:06:00</td>\n",
       "      <td>17</td>\n",
       "    </tr>\n",
       "    <tr>\n",
       "      <th>1</th>\n",
       "      <td>Male</td>\n",
       "      <td>Yes</td>\n",
       "      <td>21 - 30</td>\n",
       "      <td>Single</td>\n",
       "      <td>Less than 2 hours per day</td>\n",
       "      <td>3</td>\n",
       "      <td>3</td>\n",
       "      <td>2</td>\n",
       "      <td>2</td>\n",
       "      <td>4</td>\n",
       "      <td>4</td>\n",
       "      <td>2019-12-12</td>\n",
       "      <td>21:41:00</td>\n",
       "      <td>18</td>\n",
       "    </tr>\n",
       "    <tr>\n",
       "      <th>2</th>\n",
       "      <td>Female</td>\n",
       "      <td>Yes</td>\n",
       "      <td>21 - 30</td>\n",
       "      <td>Single</td>\n",
       "      <td>4 hours and above per day</td>\n",
       "      <td>1</td>\n",
       "      <td>5</td>\n",
       "      <td>2</td>\n",
       "      <td>4</td>\n",
       "      <td>5</td>\n",
       "      <td>4</td>\n",
       "      <td>2019-12-12</td>\n",
       "      <td>21:42:00</td>\n",
       "      <td>21</td>\n",
       "    </tr>\n",
       "    <tr>\n",
       "      <th>3</th>\n",
       "      <td>Female</td>\n",
       "      <td>Yes</td>\n",
       "      <td>21 - 30</td>\n",
       "      <td>Single</td>\n",
       "      <td>Less than 1 hours per day</td>\n",
       "      <td>4</td>\n",
       "      <td>4</td>\n",
       "      <td>3</td>\n",
       "      <td>3</td>\n",
       "      <td>3</td>\n",
       "      <td>1</td>\n",
       "      <td>2019-12-12</td>\n",
       "      <td>21:43:00</td>\n",
       "      <td>18</td>\n",
       "    </tr>\n",
       "    <tr>\n",
       "      <th>4</th>\n",
       "      <td>Male</td>\n",
       "      <td>Yes</td>\n",
       "      <td>21 - 30</td>\n",
       "      <td>Single</td>\n",
       "      <td>Less than 1 hours per day</td>\n",
       "      <td>3</td>\n",
       "      <td>5</td>\n",
       "      <td>2</td>\n",
       "      <td>3</td>\n",
       "      <td>4</td>\n",
       "      <td>4</td>\n",
       "      <td>2019-12-12</td>\n",
       "      <td>21:43:00</td>\n",
       "      <td>21</td>\n",
       "    </tr>\n",
       "    <tr>\n",
       "      <th>...</th>\n",
       "      <td>...</td>\n",
       "      <td>...</td>\n",
       "      <td>...</td>\n",
       "      <td>...</td>\n",
       "      <td>...</td>\n",
       "      <td>...</td>\n",
       "      <td>...</td>\n",
       "      <td>...</td>\n",
       "      <td>...</td>\n",
       "      <td>...</td>\n",
       "      <td>...</td>\n",
       "      <td>...</td>\n",
       "      <td>...</td>\n",
       "      <td>...</td>\n",
       "    </tr>\n",
       "    <tr>\n",
       "      <th>61</th>\n",
       "      <td>Male</td>\n",
       "      <td>Yes</td>\n",
       "      <td>20 or below</td>\n",
       "      <td>Single</td>\n",
       "      <td>Less than 3 hours per day</td>\n",
       "      <td>4</td>\n",
       "      <td>5</td>\n",
       "      <td>4</td>\n",
       "      <td>5</td>\n",
       "      <td>4</td>\n",
       "      <td>2</td>\n",
       "      <td>2019-12-31</td>\n",
       "      <td>16:11:56</td>\n",
       "      <td>24</td>\n",
       "    </tr>\n",
       "    <tr>\n",
       "      <th>62</th>\n",
       "      <td>Male</td>\n",
       "      <td>Yes</td>\n",
       "      <td>20 or below</td>\n",
       "      <td>Single</td>\n",
       "      <td>Less than 4 hours per day</td>\n",
       "      <td>3</td>\n",
       "      <td>2</td>\n",
       "      <td>5</td>\n",
       "      <td>3</td>\n",
       "      <td>1</td>\n",
       "      <td>4</td>\n",
       "      <td>2019-12-31</td>\n",
       "      <td>16:12:42</td>\n",
       "      <td>18</td>\n",
       "    </tr>\n",
       "    <tr>\n",
       "      <th>63</th>\n",
       "      <td>Female</td>\n",
       "      <td>Yes</td>\n",
       "      <td>21 - 30</td>\n",
       "      <td>Single</td>\n",
       "      <td>4 hours and above per day</td>\n",
       "      <td>1</td>\n",
       "      <td>1</td>\n",
       "      <td>1</td>\n",
       "      <td>4</td>\n",
       "      <td>5</td>\n",
       "      <td>1</td>\n",
       "      <td>2019-12-31</td>\n",
       "      <td>21:23:06</td>\n",
       "      <td>13</td>\n",
       "    </tr>\n",
       "    <tr>\n",
       "      <th>64</th>\n",
       "      <td>Male</td>\n",
       "      <td>Yes</td>\n",
       "      <td>21 - 30</td>\n",
       "      <td>Single</td>\n",
       "      <td>Less than 3 hours per day</td>\n",
       "      <td>2</td>\n",
       "      <td>4</td>\n",
       "      <td>4</td>\n",
       "      <td>4</td>\n",
       "      <td>4</td>\n",
       "      <td>4</td>\n",
       "      <td>2020-01-01</td>\n",
       "      <td>15:15:00</td>\n",
       "      <td>22</td>\n",
       "    </tr>\n",
       "    <tr>\n",
       "      <th>65</th>\n",
       "      <td>Female</td>\n",
       "      <td>Yes</td>\n",
       "      <td>21 - 30</td>\n",
       "      <td>Married</td>\n",
       "      <td>Less than 1 hours per day</td>\n",
       "      <td>2</td>\n",
       "      <td>2</td>\n",
       "      <td>2</td>\n",
       "      <td>2</td>\n",
       "      <td>4</td>\n",
       "      <td>5</td>\n",
       "      <td>2020-01-01</td>\n",
       "      <td>16:15:00</td>\n",
       "      <td>17</td>\n",
       "    </tr>\n",
       "  </tbody>\n",
       "</table>\n",
       "<p>66 rows × 14 columns</p>\n",
       "</div>"
      ],
      "text/plain": [
       "    Gender Student          Age  Marital Hours spent on social media  Q1  Q2  \\\n",
       "0   Female     Yes      21 - 30   Single   Less than 4 hours per day   3   3   \n",
       "1     Male     Yes      21 - 30   Single   Less than 2 hours per day   3   3   \n",
       "2   Female     Yes      21 - 30   Single   4 hours and above per day   1   5   \n",
       "3   Female     Yes      21 - 30   Single   Less than 1 hours per day   4   4   \n",
       "4     Male     Yes      21 - 30   Single   Less than 1 hours per day   3   5   \n",
       "..     ...     ...          ...      ...                         ...  ..  ..   \n",
       "61    Male     Yes  20 or below   Single   Less than 3 hours per day   4   5   \n",
       "62    Male     Yes  20 or below   Single   Less than 4 hours per day   3   2   \n",
       "63  Female     Yes      21 - 30   Single   4 hours and above per day   1   1   \n",
       "64    Male     Yes      21 - 30   Single   Less than 3 hours per day   2   4   \n",
       "65  Female     Yes      21 - 30  Married   Less than 1 hours per day   2   2   \n",
       "\n",
       "    Q3  Q4  Q5  Q6        Date      Time  Total  \n",
       "0    3   3   4   1  2019-12-12  02:06:00     17  \n",
       "1    2   2   4   4  2019-12-12  21:41:00     18  \n",
       "2    2   4   5   4  2019-12-12  21:42:00     21  \n",
       "3    3   3   3   1  2019-12-12  21:43:00     18  \n",
       "4    2   3   4   4  2019-12-12  21:43:00     21  \n",
       "..  ..  ..  ..  ..         ...       ...    ...  \n",
       "61   4   5   4   2  2019-12-31  16:11:56     24  \n",
       "62   5   3   1   4  2019-12-31  16:12:42     18  \n",
       "63   1   4   5   1  2019-12-31  21:23:06     13  \n",
       "64   4   4   4   4  2020-01-01  15:15:00     22  \n",
       "65   2   2   4   5  2020-01-01  16:15:00     17  \n",
       "\n",
       "[66 rows x 14 columns]"
      ]
     },
     "execution_count": 29,
     "metadata": {},
     "output_type": "execute_result"
    }
   ],
   "source": [
    "anxiety_df"
   ]
  },
  {
   "cell_type": "code",
   "execution_count": 30,
   "id": "819616b3",
   "metadata": {},
   "outputs": [],
   "source": [
    "# Summing up the columns Q1 to Q6"
   ]
  },
  {
   "cell_type": "code",
   "execution_count": 31,
   "id": "3cf58e70",
   "metadata": {},
   "outputs": [
    {
     "data": {
      "text/html": [
       "<div>\n",
       "<style scoped>\n",
       "    .dataframe tbody tr th:only-of-type {\n",
       "        vertical-align: middle;\n",
       "    }\n",
       "\n",
       "    .dataframe tbody tr th {\n",
       "        vertical-align: top;\n",
       "    }\n",
       "\n",
       "    .dataframe thead th {\n",
       "        text-align: right;\n",
       "    }\n",
       "</style>\n",
       "<table border=\"1\" class=\"dataframe\">\n",
       "  <thead>\n",
       "    <tr style=\"text-align: right;\">\n",
       "      <th></th>\n",
       "      <th>Q1</th>\n",
       "      <th>Q2</th>\n",
       "      <th>Q3</th>\n",
       "      <th>Q4</th>\n",
       "      <th>Q5</th>\n",
       "      <th>Q6</th>\n",
       "      <th>Total</th>\n",
       "    </tr>\n",
       "  </thead>\n",
       "  <tbody>\n",
       "    <tr>\n",
       "      <th>0</th>\n",
       "      <td>3</td>\n",
       "      <td>3</td>\n",
       "      <td>3</td>\n",
       "      <td>3</td>\n",
       "      <td>4</td>\n",
       "      <td>1</td>\n",
       "      <td>17</td>\n",
       "    </tr>\n",
       "    <tr>\n",
       "      <th>1</th>\n",
       "      <td>3</td>\n",
       "      <td>3</td>\n",
       "      <td>2</td>\n",
       "      <td>2</td>\n",
       "      <td>4</td>\n",
       "      <td>4</td>\n",
       "      <td>18</td>\n",
       "    </tr>\n",
       "    <tr>\n",
       "      <th>2</th>\n",
       "      <td>1</td>\n",
       "      <td>5</td>\n",
       "      <td>2</td>\n",
       "      <td>4</td>\n",
       "      <td>5</td>\n",
       "      <td>4</td>\n",
       "      <td>21</td>\n",
       "    </tr>\n",
       "    <tr>\n",
       "      <th>3</th>\n",
       "      <td>4</td>\n",
       "      <td>4</td>\n",
       "      <td>3</td>\n",
       "      <td>3</td>\n",
       "      <td>3</td>\n",
       "      <td>1</td>\n",
       "      <td>18</td>\n",
       "    </tr>\n",
       "    <tr>\n",
       "      <th>4</th>\n",
       "      <td>3</td>\n",
       "      <td>5</td>\n",
       "      <td>2</td>\n",
       "      <td>3</td>\n",
       "      <td>4</td>\n",
       "      <td>4</td>\n",
       "      <td>21</td>\n",
       "    </tr>\n",
       "    <tr>\n",
       "      <th>...</th>\n",
       "      <td>...</td>\n",
       "      <td>...</td>\n",
       "      <td>...</td>\n",
       "      <td>...</td>\n",
       "      <td>...</td>\n",
       "      <td>...</td>\n",
       "      <td>...</td>\n",
       "    </tr>\n",
       "    <tr>\n",
       "      <th>61</th>\n",
       "      <td>4</td>\n",
       "      <td>5</td>\n",
       "      <td>4</td>\n",
       "      <td>5</td>\n",
       "      <td>4</td>\n",
       "      <td>2</td>\n",
       "      <td>24</td>\n",
       "    </tr>\n",
       "    <tr>\n",
       "      <th>62</th>\n",
       "      <td>3</td>\n",
       "      <td>2</td>\n",
       "      <td>5</td>\n",
       "      <td>3</td>\n",
       "      <td>1</td>\n",
       "      <td>4</td>\n",
       "      <td>18</td>\n",
       "    </tr>\n",
       "    <tr>\n",
       "      <th>63</th>\n",
       "      <td>1</td>\n",
       "      <td>1</td>\n",
       "      <td>1</td>\n",
       "      <td>4</td>\n",
       "      <td>5</td>\n",
       "      <td>1</td>\n",
       "      <td>13</td>\n",
       "    </tr>\n",
       "    <tr>\n",
       "      <th>64</th>\n",
       "      <td>2</td>\n",
       "      <td>4</td>\n",
       "      <td>4</td>\n",
       "      <td>4</td>\n",
       "      <td>4</td>\n",
       "      <td>4</td>\n",
       "      <td>22</td>\n",
       "    </tr>\n",
       "    <tr>\n",
       "      <th>65</th>\n",
       "      <td>2</td>\n",
       "      <td>2</td>\n",
       "      <td>2</td>\n",
       "      <td>2</td>\n",
       "      <td>4</td>\n",
       "      <td>5</td>\n",
       "      <td>17</td>\n",
       "    </tr>\n",
       "  </tbody>\n",
       "</table>\n",
       "<p>66 rows × 7 columns</p>\n",
       "</div>"
      ],
      "text/plain": [
       "    Q1  Q2  Q3  Q4  Q5  Q6  Total\n",
       "0    3   3   3   3   4   1     17\n",
       "1    3   3   2   2   4   4     18\n",
       "2    1   5   2   4   5   4     21\n",
       "3    4   4   3   3   3   1     18\n",
       "4    3   5   2   3   4   4     21\n",
       "..  ..  ..  ..  ..  ..  ..    ...\n",
       "61   4   5   4   5   4   2     24\n",
       "62   3   2   5   3   1   4     18\n",
       "63   1   1   1   4   5   1     13\n",
       "64   2   4   4   4   4   4     22\n",
       "65   2   2   2   2   4   5     17\n",
       "\n",
       "[66 rows x 7 columns]"
      ]
     },
     "execution_count": 31,
     "metadata": {},
     "output_type": "execute_result"
    }
   ],
   "source": [
    "anxiety_df.loc[:,[\"Q1\",\"Q2\",\"Q3\",\"Q4\",\"Q5\",\"Q6\",\"Total\"]]"
   ]
  },
  {
   "cell_type": "code",
   "execution_count": 32,
   "id": "90d7a870",
   "metadata": {},
   "outputs": [],
   "source": [
    "# computing mean and median value on \"Total\" column"
   ]
  },
  {
   "cell_type": "code",
   "execution_count": 33,
   "id": "d69000ac",
   "metadata": {},
   "outputs": [
    {
     "data": {
      "text/plain": [
       "20.666666666666668"
      ]
     },
     "execution_count": 33,
     "metadata": {},
     "output_type": "execute_result"
    }
   ],
   "source": [
    "anxiety_df['Total'].mean()"
   ]
  },
  {
   "cell_type": "code",
   "execution_count": 34,
   "id": "8f8e5222",
   "metadata": {},
   "outputs": [
    {
     "data": {
      "text/plain": [
       "21.0"
      ]
     },
     "execution_count": 34,
     "metadata": {},
     "output_type": "execute_result"
    }
   ],
   "source": [
    "anxiety_df['Total'].median()"
   ]
  },
  {
   "cell_type": "markdown",
   "id": "a0b79f37",
   "metadata": {},
   "source": [
    "**PLOTTING THE NORMAL DISTRIBUTION WITH MEAN**"
   ]
  },
  {
   "cell_type": "code",
   "execution_count": 35,
   "id": "0a813b58",
   "metadata": {},
   "outputs": [
    {
     "data": {
      "text/plain": [
       "[<matplotlib.lines.Line2D at 0x7fa780251fd0>]"
      ]
     },
     "execution_count": 35,
     "metadata": {},
     "output_type": "execute_result"
    },
    {
     "data": {
      "image/png": "[encoded data removed]",
      "text/plain": [
       "<Figure size 432x288 with 1 Axes>"
      ]
     },
     "metadata": {},
     "output_type": "display_data"
    }
   ],
   "source": [
    "x = np.arange(10,30,0.001)\n",
    "plt.plot(x, norm.pdf(x, 20))"
   ]
  },
  {
   "cell_type": "markdown",
   "id": "87ab0d46",
   "metadata": {},
   "source": [
    "**COUNTING THE NO. OF MALE AND FEMALE**"
   ]
  },
  {
   "cell_type": "code",
   "execution_count": 36,
   "id": "c99556f2",
   "metadata": {},
   "outputs": [
    {
     "data": {
      "text/plain": [
       "Female    39\n",
       "Male      27\n",
       "Name: Gender, dtype: int64"
      ]
     },
     "execution_count": 36,
     "metadata": {},
     "output_type": "execute_result"
    }
   ],
   "source": [
    "anxiety_df['Gender'].value_counts()"
   ]
  },
  {
   "cell_type": "code",
   "execution_count": 37,
   "id": "b7366e06",
   "metadata": {},
   "outputs": [
    {
     "data": {
      "image/png": "[encoded data removed]",
      "text/plain": [
       "<Figure size 432x288 with 1 Axes>"
      ]
     },
     "metadata": {},
     "output_type": "display_data"
    }
   ],
   "source": [
    "data = [39, 27]\n",
    "label = [\"Female\", \"Male\"]\n",
    "plt.pie(data, labels=label, autopct='%1.1f%%', startangle=90)\n",
    "plt.title('Gender')\n",
    "plt.axis('equal')\n",
    "plt.show()"
   ]
  },
  {
   "cell_type": "code",
   "execution_count": 38,
   "id": "0090b1cd",
   "metadata": {},
   "outputs": [
    {
     "data": {
      "text/plain": [
       "Yes    42\n",
       "No     24\n",
       "Name: Student, dtype: int64"
      ]
     },
     "execution_count": 38,
     "metadata": {},
     "output_type": "execute_result"
    }
   ],
   "source": [
    "anxiety_df['Student'].value_counts()"
   ]
  },
  {
   "cell_type": "code",
   "execution_count": 39,
   "id": "49e03d7d",
   "metadata": {},
   "outputs": [
    {
     "data": {
      "image/png": "[encoded data removed]",
      "text/plain": [
       "<Figure size 432x288 with 1 Axes>"
      ]
     },
     "metadata": {},
     "output_type": "display_data"
    }
   ],
   "source": [
    "data = [42, 24]\n",
    "label = [\"Yes\", \"No \"]\n",
    "plt.pie(data, labels=label, autopct='%1.1f%%', startangle=90)\n",
    "plt.title('Student')\n",
    "plt.axis('equal')\n",
    "plt.show()"
   ]
  },
  {
   "cell_type": "code",
   "execution_count": 40,
   "id": "020fc386",
   "metadata": {},
   "outputs": [
    {
     "data": {
      "text/plain": [
       "Single     47\n",
       "Married    19\n",
       "Name: Marital, dtype: int64"
      ]
     },
     "execution_count": 40,
     "metadata": {},
     "output_type": "execute_result"
    }
   ],
   "source": [
    "anxiety_df['Marital'].value_counts()"
   ]
  },
  {
   "cell_type": "code",
   "execution_count": 41,
   "id": "5e4c9ac1",
   "metadata": {},
   "outputs": [
    {
     "data": {
      "image/png": "[encoded data removed]",
      "text/plain": [
       "<Figure size 432x288 with 1 Axes>"
      ]
     },
     "metadata": {},
     "output_type": "display_data"
    }
   ],
   "source": [
    "data = [47, 19]\n",
    "label = [\"Single\", \"Married\"]\n",
    "plt.pie(data, labels=label, autopct='%1.1f%%', startangle=90)\n",
    "plt.title('Marital')\n",
    "plt.axis('equal')\n",
    "plt.show()"
   ]
  },
  {
   "cell_type": "code",
   "execution_count": 42,
   "id": "2299131d",
   "metadata": {},
   "outputs": [
    {
     "data": {
      "text/plain": [
       "4 hours and above per day    28\n",
       "Less than 3 hours per day    12\n",
       "Less than 4 hours per day     9\n",
       "Less than 1 hours per day     9\n",
       "Less than 2 hours per day     8\n",
       "Name: Hours spent on social media, dtype: int64"
      ]
     },
     "execution_count": 42,
     "metadata": {},
     "output_type": "execute_result"
    }
   ],
   "source": [
    "anxiety_df['Hours spent on social media'].value_counts()"
   ]
  },
  {
   "cell_type": "code",
   "execution_count": 43,
   "id": "d24590b2",
   "metadata": {},
   "outputs": [
    {
     "data": {
      "image/png": "[encoded data removed]",
      "text/plain": [
       "<Figure size 432x288 with 1 Axes>"
      ]
     },
     "metadata": {},
     "output_type": "display_data"
    }
   ],
   "source": [
    "data = [9, 9, 12, 9, 28]\n",
    "label = [\"Less than 1 hours per day\", \"Less than 2 hours per day\",\"Less than 3 hours per day\",\"Less than 4 hours per day\",\"4 hours and above per day\"]\n",
    "plt.pie(data, labels=label, autopct='%1.1f%%', startangle=90)\n",
    "plt.title('Hours spent on social media by everyone')\n",
    "plt.axis('equal')\n",
    "plt.show()"
   ]
  },
  {
   "cell_type": "markdown",
   "id": "775a4d48",
   "metadata": {},
   "source": [
    "## Analysis only on Student"
   ]
  },
  {
   "cell_type": "code",
   "execution_count": 44,
   "id": "a4a55e16",
   "metadata": {},
   "outputs": [],
   "source": [
    "#To show the count of student\n",
    "student_df = anxiety_df[anxiety_df['Student'] == 'Yes']"
   ]
  },
  {
   "cell_type": "code",
   "execution_count": 45,
   "id": "8b6149ea",
   "metadata": {},
   "outputs": [
    {
     "data": {
      "text/html": [
       "<div>\n",
       "<style scoped>\n",
       "    .dataframe tbody tr th:only-of-type {\n",
       "        vertical-align: middle;\n",
       "    }\n",
       "\n",
       "    .dataframe tbody tr th {\n",
       "        vertical-align: top;\n",
       "    }\n",
       "\n",
       "    .dataframe thead th {\n",
       "        text-align: right;\n",
       "    }\n",
       "</style>\n",
       "<table border=\"1\" class=\"dataframe\">\n",
       "  <thead>\n",
       "    <tr style=\"text-align: right;\">\n",
       "      <th></th>\n",
       "      <th>Gender</th>\n",
       "      <th>Student</th>\n",
       "      <th>Age</th>\n",
       "      <th>Marital</th>\n",
       "      <th>Hours spent on social media</th>\n",
       "      <th>Q1</th>\n",
       "      <th>Q2</th>\n",
       "      <th>Q3</th>\n",
       "      <th>Q4</th>\n",
       "      <th>Q5</th>\n",
       "      <th>Q6</th>\n",
       "      <th>Date</th>\n",
       "      <th>Time</th>\n",
       "      <th>Total</th>\n",
       "    </tr>\n",
       "  </thead>\n",
       "  <tbody>\n",
       "    <tr>\n",
       "      <th>0</th>\n",
       "      <td>Female</td>\n",
       "      <td>Yes</td>\n",
       "      <td>21 - 30</td>\n",
       "      <td>Single</td>\n",
       "      <td>Less than 4 hours per day</td>\n",
       "      <td>3</td>\n",
       "      <td>3</td>\n",
       "      <td>3</td>\n",
       "      <td>3</td>\n",
       "      <td>4</td>\n",
       "      <td>1</td>\n",
       "      <td>2019-12-12</td>\n",
       "      <td>02:06:00</td>\n",
       "      <td>17</td>\n",
       "    </tr>\n",
       "    <tr>\n",
       "      <th>1</th>\n",
       "      <td>Male</td>\n",
       "      <td>Yes</td>\n",
       "      <td>21 - 30</td>\n",
       "      <td>Single</td>\n",
       "      <td>Less than 2 hours per day</td>\n",
       "      <td>3</td>\n",
       "      <td>3</td>\n",
       "      <td>2</td>\n",
       "      <td>2</td>\n",
       "      <td>4</td>\n",
       "      <td>4</td>\n",
       "      <td>2019-12-12</td>\n",
       "      <td>21:41:00</td>\n",
       "      <td>18</td>\n",
       "    </tr>\n",
       "    <tr>\n",
       "      <th>2</th>\n",
       "      <td>Female</td>\n",
       "      <td>Yes</td>\n",
       "      <td>21 - 30</td>\n",
       "      <td>Single</td>\n",
       "      <td>4 hours and above per day</td>\n",
       "      <td>1</td>\n",
       "      <td>5</td>\n",
       "      <td>2</td>\n",
       "      <td>4</td>\n",
       "      <td>5</td>\n",
       "      <td>4</td>\n",
       "      <td>2019-12-12</td>\n",
       "      <td>21:42:00</td>\n",
       "      <td>21</td>\n",
       "    </tr>\n",
       "    <tr>\n",
       "      <th>3</th>\n",
       "      <td>Female</td>\n",
       "      <td>Yes</td>\n",
       "      <td>21 - 30</td>\n",
       "      <td>Single</td>\n",
       "      <td>Less than 1 hours per day</td>\n",
       "      <td>4</td>\n",
       "      <td>4</td>\n",
       "      <td>3</td>\n",
       "      <td>3</td>\n",
       "      <td>3</td>\n",
       "      <td>1</td>\n",
       "      <td>2019-12-12</td>\n",
       "      <td>21:43:00</td>\n",
       "      <td>18</td>\n",
       "    </tr>\n",
       "    <tr>\n",
       "      <th>4</th>\n",
       "      <td>Male</td>\n",
       "      <td>Yes</td>\n",
       "      <td>21 - 30</td>\n",
       "      <td>Single</td>\n",
       "      <td>Less than 1 hours per day</td>\n",
       "      <td>3</td>\n",
       "      <td>5</td>\n",
       "      <td>2</td>\n",
       "      <td>3</td>\n",
       "      <td>4</td>\n",
       "      <td>4</td>\n",
       "      <td>2019-12-12</td>\n",
       "      <td>21:43:00</td>\n",
       "      <td>21</td>\n",
       "    </tr>\n",
       "  </tbody>\n",
       "</table>\n",
       "</div>"
      ],
      "text/plain": [
       "   Gender Student      Age Marital Hours spent on social media  Q1  Q2  Q3  \\\n",
       "0  Female     Yes  21 - 30  Single   Less than 4 hours per day   3   3   3   \n",
       "1    Male     Yes  21 - 30  Single   Less than 2 hours per day   3   3   2   \n",
       "2  Female     Yes  21 - 30  Single   4 hours and above per day   1   5   2   \n",
       "3  Female     Yes  21 - 30  Single   Less than 1 hours per day   4   4   3   \n",
       "4    Male     Yes  21 - 30  Single   Less than 1 hours per day   3   5   2   \n",
       "\n",
       "   Q4  Q5  Q6        Date      Time  Total  \n",
       "0   3   4   1  2019-12-12  02:06:00     17  \n",
       "1   2   4   4  2019-12-12  21:41:00     18  \n",
       "2   4   5   4  2019-12-12  21:42:00     21  \n",
       "3   3   3   1  2019-12-12  21:43:00     18  \n",
       "4   3   4   4  2019-12-12  21:43:00     21  "
      ]
     },
     "execution_count": 45,
     "metadata": {},
     "output_type": "execute_result"
    }
   ],
   "source": [
    "student_df.head(5)"
   ]
  },
  {
   "cell_type": "code",
   "execution_count": 46,
   "id": "5fbecdb9",
   "metadata": {},
   "outputs": [
    {
     "data": {
      "image/png": "[encoded data removed]",
      "text/plain": [
       "<Figure size 432x288 with 1 Axes>"
      ]
     },
     "metadata": {},
     "output_type": "display_data"
    }
   ],
   "source": [
    "data = [40, 29]\n",
    "label = [\"Female\", \"Male\"]\n",
    "plt.pie(data, labels=label, autopct='%1.1f%%', startangle=90)\n",
    "plt.title('Gender')\n",
    "plt.axis('equal')\n",
    "plt.show()"
   ]
  },
  {
   "cell_type": "code",
   "execution_count": 47,
   "id": "c2b77657",
   "metadata": {},
   "outputs": [
    {
     "data": {
      "image/png": "[encoded data removed]",
      "text/plain": [
       "<Figure size 432x288 with 1 Axes>"
      ]
     },
     "metadata": {},
     "output_type": "display_data"
    }
   ],
   "source": [
    "data = [69]\n",
    "label = [\"Yes\"]\n",
    "plt.pie(data, labels=label, autopct='%1.1f%%', startangle=90)\n",
    "plt.title('Student')\n",
    "plt.axis('equal')\n",
    "plt.show()"
   ]
  },
  {
   "cell_type": "code",
   "execution_count": 48,
   "id": "7e10d572",
   "metadata": {},
   "outputs": [],
   "source": [
    "marital_df = student_df[student_df['Marital']=='Single']"
   ]
  },
  {
   "cell_type": "code",
   "execution_count": 49,
   "id": "12353cdb",
   "metadata": {},
   "outputs": [
    {
     "data": {
      "text/html": [
       "<div>\n",
       "<style scoped>\n",
       "    .dataframe tbody tr th:only-of-type {\n",
       "        vertical-align: middle;\n",
       "    }\n",
       "\n",
       "    .dataframe tbody tr th {\n",
       "        vertical-align: top;\n",
       "    }\n",
       "\n",
       "    .dataframe thead th {\n",
       "        text-align: right;\n",
       "    }\n",
       "</style>\n",
       "<table border=\"1\" class=\"dataframe\">\n",
       "  <thead>\n",
       "    <tr style=\"text-align: right;\">\n",
       "      <th></th>\n",
       "      <th>Gender</th>\n",
       "      <th>Student</th>\n",
       "      <th>Age</th>\n",
       "      <th>Marital</th>\n",
       "      <th>Hours spent on social media</th>\n",
       "      <th>Q1</th>\n",
       "      <th>Q2</th>\n",
       "      <th>Q3</th>\n",
       "      <th>Q4</th>\n",
       "      <th>Q5</th>\n",
       "      <th>Q6</th>\n",
       "      <th>Date</th>\n",
       "      <th>Time</th>\n",
       "      <th>Total</th>\n",
       "    </tr>\n",
       "  </thead>\n",
       "  <tbody>\n",
       "    <tr>\n",
       "      <th>0</th>\n",
       "      <td>Female</td>\n",
       "      <td>Yes</td>\n",
       "      <td>21 - 30</td>\n",
       "      <td>Single</td>\n",
       "      <td>Less than 4 hours per day</td>\n",
       "      <td>3</td>\n",
       "      <td>3</td>\n",
       "      <td>3</td>\n",
       "      <td>3</td>\n",
       "      <td>4</td>\n",
       "      <td>1</td>\n",
       "      <td>2019-12-12</td>\n",
       "      <td>02:06:00</td>\n",
       "      <td>17</td>\n",
       "    </tr>\n",
       "    <tr>\n",
       "      <th>1</th>\n",
       "      <td>Male</td>\n",
       "      <td>Yes</td>\n",
       "      <td>21 - 30</td>\n",
       "      <td>Single</td>\n",
       "      <td>Less than 2 hours per day</td>\n",
       "      <td>3</td>\n",
       "      <td>3</td>\n",
       "      <td>2</td>\n",
       "      <td>2</td>\n",
       "      <td>4</td>\n",
       "      <td>4</td>\n",
       "      <td>2019-12-12</td>\n",
       "      <td>21:41:00</td>\n",
       "      <td>18</td>\n",
       "    </tr>\n",
       "    <tr>\n",
       "      <th>2</th>\n",
       "      <td>Female</td>\n",
       "      <td>Yes</td>\n",
       "      <td>21 - 30</td>\n",
       "      <td>Single</td>\n",
       "      <td>4 hours and above per day</td>\n",
       "      <td>1</td>\n",
       "      <td>5</td>\n",
       "      <td>2</td>\n",
       "      <td>4</td>\n",
       "      <td>5</td>\n",
       "      <td>4</td>\n",
       "      <td>2019-12-12</td>\n",
       "      <td>21:42:00</td>\n",
       "      <td>21</td>\n",
       "    </tr>\n",
       "    <tr>\n",
       "      <th>3</th>\n",
       "      <td>Female</td>\n",
       "      <td>Yes</td>\n",
       "      <td>21 - 30</td>\n",
       "      <td>Single</td>\n",
       "      <td>Less than 1 hours per day</td>\n",
       "      <td>4</td>\n",
       "      <td>4</td>\n",
       "      <td>3</td>\n",
       "      <td>3</td>\n",
       "      <td>3</td>\n",
       "      <td>1</td>\n",
       "      <td>2019-12-12</td>\n",
       "      <td>21:43:00</td>\n",
       "      <td>18</td>\n",
       "    </tr>\n",
       "    <tr>\n",
       "      <th>4</th>\n",
       "      <td>Male</td>\n",
       "      <td>Yes</td>\n",
       "      <td>21 - 30</td>\n",
       "      <td>Single</td>\n",
       "      <td>Less than 1 hours per day</td>\n",
       "      <td>3</td>\n",
       "      <td>5</td>\n",
       "      <td>2</td>\n",
       "      <td>3</td>\n",
       "      <td>4</td>\n",
       "      <td>4</td>\n",
       "      <td>2019-12-12</td>\n",
       "      <td>21:43:00</td>\n",
       "      <td>21</td>\n",
       "    </tr>\n",
       "  </tbody>\n",
       "</table>\n",
       "</div>"
      ],
      "text/plain": [
       "   Gender Student      Age Marital Hours spent on social media  Q1  Q2  Q3  \\\n",
       "0  Female     Yes  21 - 30  Single   Less than 4 hours per day   3   3   3   \n",
       "1    Male     Yes  21 - 30  Single   Less than 2 hours per day   3   3   2   \n",
       "2  Female     Yes  21 - 30  Single   4 hours and above per day   1   5   2   \n",
       "3  Female     Yes  21 - 30  Single   Less than 1 hours per day   4   4   3   \n",
       "4    Male     Yes  21 - 30  Single   Less than 1 hours per day   3   5   2   \n",
       "\n",
       "   Q4  Q5  Q6        Date      Time  Total  \n",
       "0   3   4   1  2019-12-12  02:06:00     17  \n",
       "1   2   4   4  2019-12-12  21:41:00     18  \n",
       "2   4   5   4  2019-12-12  21:42:00     21  \n",
       "3   3   3   1  2019-12-12  21:43:00     18  \n",
       "4   3   4   4  2019-12-12  21:43:00     21  "
      ]
     },
     "execution_count": 49,
     "metadata": {},
     "output_type": "execute_result"
    }
   ],
   "source": [
    "marital_df.head(5)"
   ]
  },
  {
   "cell_type": "code",
   "execution_count": 50,
   "id": "5cdac5fa",
   "metadata": {},
   "outputs": [
    {
     "data": {
      "image/png": "[encoded data removed]",
      "text/plain": [
       "<Figure size 432x288 with 1 Axes>"
      ]
     },
     "metadata": {},
     "output_type": "display_data"
    }
   ],
   "source": [
    "data = [60,9]\n",
    "label = [\"Single\",\"Married\"]\n",
    "plt.pie(data, labels=label, autopct='%1.1f%%', startangle=90)\n",
    "plt.title('Marital')\n",
    "plt.axis('equal')\n",
    "plt.show()  "
   ]
  },
  {
   "cell_type": "code",
   "execution_count": 51,
   "id": "b0685d4d",
   "metadata": {},
   "outputs": [
    {
     "data": {
      "image/png": "[encoded data removed]",
      "text/plain": [
       "<Figure size 432x288 with 1 Axes>"
      ]
     },
     "metadata": {},
     "output_type": "display_data"
    }
   ],
   "source": [
    "data = [5, 7, 14, 6, 27]\n",
    "label = [\"Less than 1 hours per day\", \"Less than 2 hours per day\",\"Less than 3 hours per day\",\"Less than 4 hours per day\",\"4 hours and above per day\"]\n",
    "plt.pie(data, labels=label, autopct='%1.1f%%', startangle=90)\n",
    "plt.title('Hours spent on social media by Students')\n",
    "plt.axis('equal')\n",
    "plt.show()"
   ]
  },
  {
   "cell_type": "markdown",
   "id": "16fe308d",
   "metadata": {},
   "source": [
    "## Age Range"
   ]
  },
  {
   "cell_type": "code",
   "execution_count": 52,
   "id": "08938fc0",
   "metadata": {},
   "outputs": [
    {
     "data": {
      "text/plain": [
       "<AxesSubplot:xlabel='Total', ylabel='Age'>"
      ]
     },
     "execution_count": 52,
     "metadata": {},
     "output_type": "execute_result"
    },
    {
     "data": {
      "image/png": "[encoded data removed]",
      "text/plain": [
       "<Figure size 432x288 with 1 Axes>"
      ]
     },
     "metadata": {},
     "output_type": "display_data"
    }
   ],
   "source": [
    "sns.boxplot(x=\"Total\", y=\"Age\", data=student_df,whis=[0, 100], width=.6, palette=\"vlag\")"
   ]
  },
  {
   "cell_type": "markdown",
   "id": "06ad1cb9",
   "metadata": {},
   "source": [
    "## Gender Range"
   ]
  },
  {
   "cell_type": "code",
   "execution_count": 53,
   "id": "73082f26",
   "metadata": {},
   "outputs": [
    {
     "data": {
      "text/plain": [
       "<AxesSubplot:xlabel='Total', ylabel='Gender'>"
      ]
     },
     "execution_count": 53,
     "metadata": {},
     "output_type": "execute_result"
    },
    {
     "data": {
      "image/png": "[encoded data removed]",
      "text/plain": [
       "<Figure size 432x288 with 1 Axes>"
      ]
     },
     "metadata": {},
     "output_type": "display_data"
    }
   ],
   "source": [
    "sns.boxplot(x=\"Total\", y=\"Gender\", data=student_df,whis=[0,100],width=.6, palette=\"vlag\")"
   ]
  },
  {
   "cell_type": "markdown",
   "id": "4f1c091c",
   "metadata": {},
   "source": [
    "## Marital Status"
   ]
  },
  {
   "cell_type": "code",
   "execution_count": 55,
   "id": "61dd7a33",
   "metadata": {},
   "outputs": [
    {
     "data": {
      "text/plain": [
       "<AxesSubplot:xlabel='Total', ylabel='Marital'>"
      ]
     },
     "execution_count": 55,
     "metadata": {},
     "output_type": "execute_result"
    },
    {
     "data": {
      "image/png": "[encoded data removed]",
      "text/plain": [
       "<Figure size 432x288 with 1 Axes>"
      ]
     },
     "metadata": {},
     "output_type": "display_data"
    }
   ],
   "source": [
    "sns.boxplot(x=\"Total\", y=\"Marital\", data=student_df,whis=[0,100],width=.6, palette=\"vlag\")"
   ]
  },
  {
   "cell_type": "code",
   "execution_count": null,
   "id": "5858336b",
   "metadata": {},
   "outputs": [],
   "source": []
  }
 ],
 "metadata": {
  "kernelspec": {
   "display_name": "Python 3",
   "language": "python",
   "name": "python3"
  },
  "language_info": {
   "codemirror_mode": {
    "name": "ipython",
    "version": 3
   },
   "file_extension": ".py",
   "mimetype": "text/x-python",
   "name": "python",
   "nbconvert_exporter": "python",
   "pygments_lexer": "ipython3",
   "version": "3.8.8"
  }
 },
 "nbformat": 4,
 "nbformat_minor": 5
}
